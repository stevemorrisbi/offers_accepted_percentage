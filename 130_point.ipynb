{
 "cells": [
  {
   "cell_type": "code",
   "execution_count": 2,
   "id": "3b3d77be",
   "metadata": {},
   "outputs": [
    {
     "name": "stdout",
     "output_type": "stream",
     "text": [
      "                                                 title list_price sale_price  \\\n",
      "0                             jahmyr gibbs rookie card      10.00          7   \n",
      "1                              Jordan Love Rookie Card      10.00       7.25   \n",
      "2                    Victor Wembanyama Rookie Card Lot       None        825   \n",
      "3                              Brock Purdy rookie card       5.00          4   \n",
      "4                            Shohei Ohtani rookie card       None         25   \n",
      "..                                                 ...        ...        ...   \n",
      "169  2021 UFC Prizm Jamahal Hill RC Rookie Base Car...       1.49       1.25   \n",
      "170                          isiah pacheco rookie card       None          3   \n",
      "171  Rookie Greetings #01 Victor Wembanyama Rookie ...      50.00         40   \n",
      "172                            kobe bryant rookie card     350.00        298   \n",
      "173                     Bennedict Mathurin Rookie Card       1.15       0.97   \n",
      "\n",
      "    date  \n",
      "0    Sun  \n",
      "1    Sat  \n",
      "2    Sat  \n",
      "3    Sat  \n",
      "4    Sat  \n",
      "..   ...  \n",
      "169  Mon  \n",
      "170  Sun  \n",
      "171  Sun  \n",
      "172  Sat  \n",
      "173  Sat  \n",
      "\n",
      "[174 rows x 4 columns]\n"
     ]
    }
   ],
   "source": [
    "import re\n",
    "import pandas as pd\n",
    "import os\n",
    "\n",
    "directory_path = r'C:\\Users\\smorr\\Desktop\\2024 Projects\\130 point\\\\'\n",
    "\n",
    "file_path = os.path.join(directory_path, 'rc_card.txt')\n",
    "\n",
    "def parse_item(text):\n",
    "    item = {}\n",
    "    item['title'] = re.search(r'^.*?(?=\\s{2,})', text, re.DOTALL).group(0)\n",
    "    \n",
    "    # Search for 'List Price' and its value\n",
    "    list_price_match = re.search(r'List Price: (.*?)\\s', text)\n",
    "    item['list_price'] = list_price_match.group(1) if list_price_match else None\n",
    "    \n",
    "    # Search for 'Sale Price' and its value\n",
    "    sale_price_match = re.search(r'Sale Price: (.*?)\\s', text)\n",
    "    item['sale_price'] = sale_price_match.group(1) if sale_price_match else None\n",
    "    \n",
    "    # Search for 'Date' and its value\n",
    "    date_match = re.search(r'Date: (.*?)\\s', text)\n",
    "    item['date'] = date_match.group(1) if date_match else None\n",
    "    \n",
    "    return item\n",
    "\n",
    "# Read the text file\n",
    "with open(file_path, 'r', encoding='utf-8') as file:\n",
    "    text_data = file.read()\n",
    "\n",
    "# Split the text into individual items\n",
    "items_text = re.split(r'eBay\\n', text_data.strip())\n",
    "\n",
    "# Parse each item and store in a list of dictionaries\n",
    "items = [parse_item(item) for item in items_text if 'Best Offer' in item]\n",
    "\n",
    "# Create a DataFrame from the list of dictionaries\n",
    "df = pd.DataFrame(items)\n",
    "\n",
    "# Print the DataFrame\n",
    "print(df)"
   ]
  },
  {
   "cell_type": "code",
   "execution_count": 3,
   "id": "682ad71e",
   "metadata": {},
   "outputs": [
    {
     "data": {
      "text/html": [
       "<div>\n",
       "<style scoped>\n",
       "    .dataframe tbody tr th:only-of-type {\n",
       "        vertical-align: middle;\n",
       "    }\n",
       "\n",
       "    .dataframe tbody tr th {\n",
       "        vertical-align: top;\n",
       "    }\n",
       "\n",
       "    .dataframe thead th {\n",
       "        text-align: right;\n",
       "    }\n",
       "</style>\n",
       "<table border=\"1\" class=\"dataframe\">\n",
       "  <thead>\n",
       "    <tr style=\"text-align: right;\">\n",
       "      <th></th>\n",
       "      <th>title</th>\n",
       "      <th>list_price</th>\n",
       "      <th>sale_price</th>\n",
       "      <th>date</th>\n",
       "    </tr>\n",
       "  </thead>\n",
       "  <tbody>\n",
       "    <tr>\n",
       "      <th>0</th>\n",
       "      <td>jahmyr gibbs rookie card</td>\n",
       "      <td>10.00</td>\n",
       "      <td>7</td>\n",
       "      <td>Sun</td>\n",
       "    </tr>\n",
       "    <tr>\n",
       "      <th>1</th>\n",
       "      <td>Jordan Love Rookie Card</td>\n",
       "      <td>10.00</td>\n",
       "      <td>7.25</td>\n",
       "      <td>Sat</td>\n",
       "    </tr>\n",
       "    <tr>\n",
       "      <th>2</th>\n",
       "      <td>Brock Purdy rookie card</td>\n",
       "      <td>5.00</td>\n",
       "      <td>4</td>\n",
       "      <td>Sat</td>\n",
       "    </tr>\n",
       "    <tr>\n",
       "      <th>3</th>\n",
       "      <td>SHAQ ROOKIE CARD 1992-93 Topps #362 Shaquille ...</td>\n",
       "      <td>18.50</td>\n",
       "      <td>15</td>\n",
       "      <td>Thu</td>\n",
       "    </tr>\n",
       "    <tr>\n",
       "      <th>4</th>\n",
       "      <td>2023 Caitlin Clark Bowman Rookie Card BB-18 RA...</td>\n",
       "      <td>59.99</td>\n",
       "      <td>45</td>\n",
       "      <td>Thu</td>\n",
       "    </tr>\n",
       "  </tbody>\n",
       "</table>\n",
       "</div>"
      ],
      "text/plain": [
       "                                               title list_price sale_price  \\\n",
       "0                           jahmyr gibbs rookie card      10.00          7   \n",
       "1                            Jordan Love Rookie Card      10.00       7.25   \n",
       "2                            Brock Purdy rookie card       5.00          4   \n",
       "3  SHAQ ROOKIE CARD 1992-93 Topps #362 Shaquille ...      18.50         15   \n",
       "4  2023 Caitlin Clark Bowman Rookie Card BB-18 RA...      59.99         45   \n",
       "\n",
       "  date  \n",
       "0  Sun  \n",
       "1  Sat  \n",
       "2  Sat  \n",
       "3  Thu  \n",
       "4  Thu  "
      ]
     },
     "execution_count": 3,
     "metadata": {},
     "output_type": "execute_result"
    }
   ],
   "source": [
    "# Drop rows where 'list_price' is None\n",
    "df = df.dropna(subset=['list_price'])\n",
    "\n",
    "# Reset the index\n",
    "df = df.reset_index(drop=True)\n",
    "\n",
    "df.head()"
   ]
  },
  {
   "cell_type": "code",
   "execution_count": 4,
   "id": "efe6c7b8",
   "metadata": {},
   "outputs": [
    {
     "name": "stdout",
     "output_type": "stream",
     "text": [
      "                                                 title  list_price  \\\n",
      "0                             jahmyr gibbs rookie card       10.00   \n",
      "1                              Jordan Love Rookie Card       10.00   \n",
      "2                              Brock Purdy rookie card        5.00   \n",
      "3    SHAQ ROOKIE CARD 1992-93 Topps #362 Shaquille ...       18.50   \n",
      "4    2023 Caitlin Clark Bowman Rookie Card BB-18 RA...       59.99   \n",
      "..                                                 ...         ...   \n",
      "151                         ahmad garndner rookie card        5.00   \n",
      "152  2021 UFC Prizm Jamahal Hill RC Rookie Base Car...        1.49   \n",
      "153  Rookie Greetings #01 Victor Wembanyama Rookie ...       50.00   \n",
      "154                            kobe bryant rookie card      350.00   \n",
      "155                     Bennedict Mathurin Rookie Card        1.15   \n",
      "\n",
      "     sale_price date  percentage_off_sale  \n",
      "0          7.00  Sun               -30.00  \n",
      "1          7.25  Sat               -27.50  \n",
      "2          4.00  Sat               -20.00  \n",
      "3         15.00  Thu               -18.92  \n",
      "4         45.00  Thu               -24.99  \n",
      "..          ...  ...                  ...  \n",
      "151        1.00  Tue               -80.00  \n",
      "152        1.25  Mon               -16.11  \n",
      "153       40.00  Sun               -20.00  \n",
      "154      298.00  Sat               -14.86  \n",
      "155        0.97  Sat               -15.65  \n",
      "\n",
      "[156 rows x 5 columns]\n"
     ]
    }
   ],
   "source": [
    "df_filtered = df\n",
    "\n",
    "# Remove commas from list_price and sale_price and convert to numeric types\n",
    "df_filtered['list_price'] = df_filtered['list_price'].str.replace(',', '').astype(float)\n",
    "df_filtered['sale_price'] = df_filtered['sale_price'].str.replace(',', '').astype(float)\n",
    "\n",
    "# Calculate the difference between sale_price and list_price\n",
    "df_filtered['price_difference'] = df_filtered['sale_price'] - df_filtered['list_price']\n",
    "\n",
    "# Calculate the percentage difference and round to two decimal places\n",
    "df_filtered['percentage_off_sale'] = round((df_filtered['price_difference'] / df_filtered['list_price']) * 100, 2)\n",
    "\n",
    "# Display the DataFrame with percentage difference\n",
    "print(df_filtered[['title', 'list_price', 'sale_price', 'date', 'percentage_off_sale']])"
   ]
  },
  {
   "cell_type": "code",
   "execution_count": 5,
   "id": "ff5179a0",
   "metadata": {},
   "outputs": [
    {
     "name": "stdout",
     "output_type": "stream",
     "text": [
      "Average Percentage Off Sale: -24.77858974358974\n"
     ]
    }
   ],
   "source": [
    "# Calculate the average percentage off sale\n",
    "average_percentage_off_sale = df_filtered['percentage_off_sale'].mean()\n",
    "\n",
    "# Print the average percentage off sale\n",
    "print(\"Average Percentage Off Sale:\", average_percentage_off_sale)\n"
   ]
  },
  {
   "cell_type": "code",
   "execution_count": 8,
   "id": "b0355bd1",
   "metadata": {},
   "outputs": [
    {
     "name": "stdout",
     "output_type": "stream",
     "text": [
      "Average Percentage Off Sale by Date: date\n",
      "Mon   -27.411333\n",
      "Tue   -27.261667\n",
      "Wed   -22.763704\n",
      "Thu   -24.843750\n",
      "Fri   -24.627778\n",
      "Sat   -24.630714\n",
      "Sun   -21.438421\n",
      "Name: percentage_off_sale, dtype: float64\n"
     ]
    }
   ],
   "source": [
    "# Convert 'date' column to a categorical type with specified order\n",
    "df_filtered['date'] = pd.Categorical(df_filtered['date'], categories=['Mon', 'Tue', 'Wed', 'Thu', 'Fri', 'Sat', 'Sun'], ordered=True)\n",
    "\n",
    "# Calculate the average percentage off sale for each date and sort by date\n",
    "average_percentage_off_sale_by_date = df_filtered.groupby('date')['percentage_off_sale'].mean().sort_index()\n",
    "\n",
    "# Print the average percentage off sale for each date\n",
    "print(\"Average Percentage Off Sale by Date:\", average_percentage_off_sale_by_date)"
   ]
  },
  {
   "cell_type": "code",
   "execution_count": 9,
   "id": "7b8c929b",
   "metadata": {},
   "outputs": [
    {
     "name": "stdout",
     "output_type": "stream",
     "text": [
      "                                                 title list_price sale_price  \\\n",
      "0    2023-24 Panini Sticker Collection Victor Wemba...       None         22   \n",
      "1    MICHAEL JORDAN PSA 8 1986 FLEER STICKER #8 ROO...   1,250.00       1099   \n",
      "2    2023-24 Victor Wembanyama 10 Rookie Card Lot H...     110.00        100   \n",
      "3    1986 Fleer Basketball Sticker #6 Patrick Ewing...      45.00         39   \n",
      "4    VICTOR WEMBANYAMA ROOKIE Sneaker Stars 2023-24...      15.99         10   \n",
      "..                                                 ...        ...        ...   \n",
      "256  Valentin Barco Rookie RC Sticker Boca Junior P...       6.00          5   \n",
      "257  2023- 24 PANINI ROOKIE STICKER VICTOR WEMBANYA...      29.99      19.99   \n",
      "258  1997 WWF WWE Panini Superstars The Rock Rookie...      45.00         36   \n",
      "259  2019 Panini Tabloid Premier League Bukayo Saka...      40.00         30   \n",
      "260  1986-87 Super Canasta Michael Jordan Rookie St...     100.00         45   \n",
      "\n",
      "    date  \n",
      "0    Sun  \n",
      "1    Sun  \n",
      "2    Sun  \n",
      "3    Sat  \n",
      "4    Sat  \n",
      "..   ...  \n",
      "256  Mon  \n",
      "257  Mon  \n",
      "258  Mon  \n",
      "259  Mon  \n",
      "260  Mon  \n",
      "\n",
      "[261 rows x 4 columns]\n"
     ]
    }
   ],
   "source": [
    "directory_path = r'C:\\Users\\smorr\\Desktop\\2024 Projects\\130 point\\\\'\n",
    "\n",
    "file_path = os.path.join(directory_path, 'rc_sticker.txt')\n",
    "\n",
    "def parse_item(text):\n",
    "    item = {}\n",
    "    item['title'] = re.search(r'^.*?(?=\\s{2,})', text, re.DOTALL).group(0)\n",
    "    \n",
    "    # Search for 'List Price' and its value\n",
    "    list_price_match = re.search(r'List Price: (.*?)\\s', text)\n",
    "    item['list_price'] = list_price_match.group(1) if list_price_match else None\n",
    "    \n",
    "    # Search for 'Sale Price' and its value\n",
    "    sale_price_match = re.search(r'Sale Price: (.*?)\\s', text)\n",
    "    item['sale_price'] = sale_price_match.group(1) if sale_price_match else None\n",
    "    \n",
    "    # Search for 'Date' and its value\n",
    "    date_match = re.search(r'Date: (.*?)\\s', text)\n",
    "    item['date'] = date_match.group(1) if date_match else None\n",
    "    \n",
    "    return item\n",
    "\n",
    "# Read the text file\n",
    "with open(file_path, 'r', encoding='utf-8') as file:\n",
    "    text_data = file.read()\n",
    "\n",
    "# Split the text into individual items\n",
    "items_text = re.split(r'eBay\\n', text_data.strip())\n",
    "\n",
    "# Parse each item and store in a list of dictionaries\n",
    "items = [parse_item(item) for item in items_text if 'Best Offer' in item]\n",
    "\n",
    "# Create a DataFrame from the list of dictionaries\n",
    "df = pd.DataFrame(items)\n",
    "\n",
    "# Print the DataFrame\n",
    "print(df)"
   ]
  },
  {
   "cell_type": "code",
   "execution_count": 10,
   "id": "068d196a",
   "metadata": {},
   "outputs": [
    {
     "data": {
      "text/html": [
       "<div>\n",
       "<style scoped>\n",
       "    .dataframe tbody tr th:only-of-type {\n",
       "        vertical-align: middle;\n",
       "    }\n",
       "\n",
       "    .dataframe tbody tr th {\n",
       "        vertical-align: top;\n",
       "    }\n",
       "\n",
       "    .dataframe thead th {\n",
       "        text-align: right;\n",
       "    }\n",
       "</style>\n",
       "<table border=\"1\" class=\"dataframe\">\n",
       "  <thead>\n",
       "    <tr style=\"text-align: right;\">\n",
       "      <th></th>\n",
       "      <th>title</th>\n",
       "      <th>list_price</th>\n",
       "      <th>sale_price</th>\n",
       "      <th>date</th>\n",
       "    </tr>\n",
       "  </thead>\n",
       "  <tbody>\n",
       "    <tr>\n",
       "      <th>0</th>\n",
       "      <td>MICHAEL JORDAN PSA 8 1986 FLEER STICKER #8 ROO...</td>\n",
       "      <td>1,250.00</td>\n",
       "      <td>1099</td>\n",
       "      <td>Sun</td>\n",
       "    </tr>\n",
       "    <tr>\n",
       "      <th>1</th>\n",
       "      <td>2023-24 Victor Wembanyama 10 Rookie Card Lot H...</td>\n",
       "      <td>110.00</td>\n",
       "      <td>100</td>\n",
       "      <td>Sun</td>\n",
       "    </tr>\n",
       "    <tr>\n",
       "      <th>2</th>\n",
       "      <td>1986 Fleer Basketball Sticker #6 Patrick Ewing...</td>\n",
       "      <td>45.00</td>\n",
       "      <td>39</td>\n",
       "      <td>Sat</td>\n",
       "    </tr>\n",
       "    <tr>\n",
       "      <th>3</th>\n",
       "      <td>VICTOR WEMBANYAMA ROOKIE Sneaker Stars 2023-24...</td>\n",
       "      <td>15.99</td>\n",
       "      <td>10</td>\n",
       "      <td>Sat</td>\n",
       "    </tr>\n",
       "    <tr>\n",
       "      <th>4</th>\n",
       "      <td>2022-23 Alejandro Garnacho Panini Premier Leag...</td>\n",
       "      <td>24.99</td>\n",
       "      <td>20</td>\n",
       "      <td>Sat</td>\n",
       "    </tr>\n",
       "  </tbody>\n",
       "</table>\n",
       "</div>"
      ],
      "text/plain": [
       "                                               title list_price sale_price  \\\n",
       "0  MICHAEL JORDAN PSA 8 1986 FLEER STICKER #8 ROO...   1,250.00       1099   \n",
       "1  2023-24 Victor Wembanyama 10 Rookie Card Lot H...     110.00        100   \n",
       "2  1986 Fleer Basketball Sticker #6 Patrick Ewing...      45.00         39   \n",
       "3  VICTOR WEMBANYAMA ROOKIE Sneaker Stars 2023-24...      15.99         10   \n",
       "4  2022-23 Alejandro Garnacho Panini Premier Leag...      24.99         20   \n",
       "\n",
       "  date  \n",
       "0  Sun  \n",
       "1  Sun  \n",
       "2  Sat  \n",
       "3  Sat  \n",
       "4  Sat  "
      ]
     },
     "execution_count": 10,
     "metadata": {},
     "output_type": "execute_result"
    }
   ],
   "source": [
    "# Drop rows where 'list_price' is None\n",
    "df = df.dropna(subset=['list_price'])\n",
    "\n",
    "# Reset the index\n",
    "df = df.reset_index(drop=True)\n",
    "\n",
    "df.head()"
   ]
  },
  {
   "cell_type": "code",
   "execution_count": 11,
   "id": "e16689e0",
   "metadata": {},
   "outputs": [
    {
     "name": "stdout",
     "output_type": "stream",
     "text": [
      "                                                 title  list_price  \\\n",
      "0    MICHAEL JORDAN PSA 8 1986 FLEER STICKER #8 ROO...     1250.00   \n",
      "1    2023-24 Victor Wembanyama 10 Rookie Card Lot H...      110.00   \n",
      "2    1986 Fleer Basketball Sticker #6 Patrick Ewing...       45.00   \n",
      "3    VICTOR WEMBANYAMA ROOKIE Sneaker Stars 2023-24...       15.99   \n",
      "4    2022-23 Alejandro Garnacho Panini Premier Leag...       24.99   \n",
      "..                                                 ...         ...   \n",
      "245  Valentin Barco Rookie RC Sticker Boca Junior P...        6.00   \n",
      "246  2023- 24 PANINI ROOKIE STICKER VICTOR WEMBANYA...       29.99   \n",
      "247  1997 WWF WWE Panini Superstars The Rock Rookie...       45.00   \n",
      "248  2019 Panini Tabloid Premier League Bukayo Saka...       40.00   \n",
      "249  1986-87 Super Canasta Michael Jordan Rookie St...      100.00   \n",
      "\n",
      "     sale_price date  percentage_off_sale  \n",
      "0       1099.00  Sun               -12.08  \n",
      "1        100.00  Sun                -9.09  \n",
      "2         39.00  Sat               -13.33  \n",
      "3         10.00  Sat               -37.46  \n",
      "4         20.00  Sat               -19.97  \n",
      "..          ...  ...                  ...  \n",
      "245        5.00  Mon               -16.67  \n",
      "246       19.99  Mon               -33.34  \n",
      "247       36.00  Mon               -20.00  \n",
      "248       30.00  Mon               -25.00  \n",
      "249       45.00  Mon               -55.00  \n",
      "\n",
      "[250 rows x 5 columns]\n"
     ]
    }
   ],
   "source": [
    "df_filtered = df\n",
    "\n",
    "# Remove commas from list_price and sale_price and convert to numeric types\n",
    "df_filtered['list_price'] = df_filtered['list_price'].str.replace(',', '').astype(float)\n",
    "df_filtered['sale_price'] = df_filtered['sale_price'].str.replace(',', '').astype(float)\n",
    "\n",
    "# Calculate the difference between sale_price and list_price\n",
    "df_filtered['price_difference'] = df_filtered['sale_price'] - df_filtered['list_price']\n",
    "\n",
    "# Calculate the percentage difference and round to two decimal places\n",
    "df_filtered['percentage_off_sale'] = round((df_filtered['price_difference'] / df_filtered['list_price']) * 100, 2)\n",
    "\n",
    "# Display the DataFrame with percentage difference\n",
    "print(df_filtered[['title', 'list_price', 'sale_price', 'date', 'percentage_off_sale']])"
   ]
  },
  {
   "cell_type": "code",
   "execution_count": 12,
   "id": "2dc3bf99",
   "metadata": {},
   "outputs": [
    {
     "name": "stdout",
     "output_type": "stream",
     "text": [
      "Average Percentage Off Sale: -24.544160000000005\n"
     ]
    }
   ],
   "source": [
    "# Calculate the average percentage off sale\n",
    "average_percentage_off_sale = df_filtered['percentage_off_sale'].mean()\n",
    "\n",
    "# Print the average percentage off sale\n",
    "print(\"Average Percentage Off Sale:\", average_percentage_off_sale)"
   ]
  },
  {
   "cell_type": "code",
   "execution_count": 13,
   "id": "ed0eb9fe",
   "metadata": {},
   "outputs": [
    {
     "name": "stdout",
     "output_type": "stream",
     "text": [
      "Average Percentage Off Sale by Date: date\n",
      "Mon   -24.617045\n",
      "Tue   -24.880833\n",
      "Wed   -20.478667\n",
      "Thu   -27.379310\n",
      "Fri   -24.505455\n",
      "Sat   -24.015778\n",
      "Sun   -26.043333\n",
      "Name: percentage_off_sale, dtype: float64\n"
     ]
    }
   ],
   "source": [
    "# Convert 'date' column to a categorical type with specified order\n",
    "df_filtered['date'] = pd.Categorical(df_filtered['date'], categories=['Mon', 'Tue', 'Wed', 'Thu', 'Fri', 'Sat', 'Sun'], ordered=True)\n",
    "\n",
    "# Calculate the average percentage off sale for each date and sort by date\n",
    "average_percentage_off_sale_by_date = df_filtered.groupby('date')['percentage_off_sale'].mean().sort_index()\n",
    "\n",
    "# Print the average percentage off sale for each date\n",
    "print(\"Average Percentage Off Sale by Date:\", average_percentage_off_sale_by_date)"
   ]
  },
  {
   "cell_type": "code",
   "execution_count": 14,
   "id": "8bf3c1b2",
   "metadata": {},
   "outputs": [
    {
     "name": "stdout",
     "output_type": "stream",
     "text": [
      "                                                 title list_price sale_price  \\\n",
      "0    2023-24 Panini Sticker Collection Victor Wemba...       None         22   \n",
      "1    MICHAEL JORDAN PSA 8 1986 FLEER STICKER #8 ROO...   1,250.00       1099   \n",
      "2    2023-24 Victor Wembanyama 10 Rookie Card Lot H...     110.00        100   \n",
      "3    1986 Fleer Basketball Sticker #6 Patrick Ewing...      45.00         39   \n",
      "4    VICTOR WEMBANYAMA ROOKIE Sneaker Stars 2023-24...      15.99         10   \n",
      "..                                                 ...        ...        ...   \n",
      "430  2021 UFC Prizm Jamahal Hill RC Rookie Base Car...       1.49       1.25   \n",
      "431                          isiah pacheco rookie card       None          3   \n",
      "432  Rookie Greetings #01 Victor Wembanyama Rookie ...      50.00         40   \n",
      "433                            kobe bryant rookie card     350.00        298   \n",
      "434                     Bennedict Mathurin Rookie Card       1.15       0.97   \n",
      "\n",
      "    date  \n",
      "0    Sun  \n",
      "1    Sun  \n",
      "2    Sun  \n",
      "3    Sat  \n",
      "4    Sat  \n",
      "..   ...  \n",
      "430  Mon  \n",
      "431  Sun  \n",
      "432  Sun  \n",
      "433  Sat  \n",
      "434  Sat  \n",
      "\n",
      "[435 rows x 4 columns]\n"
     ]
    }
   ],
   "source": [
    "directory_path = r'C:\\Users\\smorr\\Desktop\\2024 Projects\\130 point\\\\'\n",
    "\n",
    "file_path = os.path.join(directory_path, 'rc_all.txt')\n",
    "\n",
    "def parse_item(text):\n",
    "    item = {}\n",
    "    item['title'] = re.search(r'^.*?(?=\\s{2,})', text, re.DOTALL).group(0)\n",
    "    \n",
    "    # Search for 'List Price' and its value\n",
    "    list_price_match = re.search(r'List Price: (.*?)\\s', text)\n",
    "    item['list_price'] = list_price_match.group(1) if list_price_match else None\n",
    "    \n",
    "    # Search for 'Sale Price' and its value\n",
    "    sale_price_match = re.search(r'Sale Price: (.*?)\\s', text)\n",
    "    item['sale_price'] = sale_price_match.group(1) if sale_price_match else None\n",
    "    \n",
    "    # Search for 'Date' and its value\n",
    "    date_match = re.search(r'Date: (.*?)\\s', text)\n",
    "    item['date'] = date_match.group(1) if date_match else None\n",
    "    \n",
    "    return item\n",
    "\n",
    "# Read the text file\n",
    "with open(file_path, 'r', encoding='utf-8') as file:\n",
    "    text_data = file.read()\n",
    "\n",
    "# Split the text into individual items\n",
    "items_text = re.split(r'eBay\\n', text_data.strip())\n",
    "\n",
    "# Parse each item and store in a list of dictionaries\n",
    "items = [parse_item(item) for item in items_text if 'Best Offer' in item]\n",
    "\n",
    "# Create a DataFrame from the list of dictionaries\n",
    "df = pd.DataFrame(items)\n",
    "\n",
    "# Print the DataFrame\n",
    "print(df)"
   ]
  },
  {
   "cell_type": "code",
   "execution_count": 15,
   "id": "47452738",
   "metadata": {},
   "outputs": [
    {
     "data": {
      "text/html": [
       "<div>\n",
       "<style scoped>\n",
       "    .dataframe tbody tr th:only-of-type {\n",
       "        vertical-align: middle;\n",
       "    }\n",
       "\n",
       "    .dataframe tbody tr th {\n",
       "        vertical-align: top;\n",
       "    }\n",
       "\n",
       "    .dataframe thead th {\n",
       "        text-align: right;\n",
       "    }\n",
       "</style>\n",
       "<table border=\"1\" class=\"dataframe\">\n",
       "  <thead>\n",
       "    <tr style=\"text-align: right;\">\n",
       "      <th></th>\n",
       "      <th>title</th>\n",
       "      <th>list_price</th>\n",
       "      <th>sale_price</th>\n",
       "      <th>date</th>\n",
       "    </tr>\n",
       "  </thead>\n",
       "  <tbody>\n",
       "    <tr>\n",
       "      <th>0</th>\n",
       "      <td>MICHAEL JORDAN PSA 8 1986 FLEER STICKER #8 ROO...</td>\n",
       "      <td>1,250.00</td>\n",
       "      <td>1099</td>\n",
       "      <td>Sun</td>\n",
       "    </tr>\n",
       "    <tr>\n",
       "      <th>1</th>\n",
       "      <td>2023-24 Victor Wembanyama 10 Rookie Card Lot H...</td>\n",
       "      <td>110.00</td>\n",
       "      <td>100</td>\n",
       "      <td>Sun</td>\n",
       "    </tr>\n",
       "    <tr>\n",
       "      <th>2</th>\n",
       "      <td>1986 Fleer Basketball Sticker #6 Patrick Ewing...</td>\n",
       "      <td>45.00</td>\n",
       "      <td>39</td>\n",
       "      <td>Sat</td>\n",
       "    </tr>\n",
       "    <tr>\n",
       "      <th>3</th>\n",
       "      <td>VICTOR WEMBANYAMA ROOKIE Sneaker Stars 2023-24...</td>\n",
       "      <td>15.99</td>\n",
       "      <td>10</td>\n",
       "      <td>Sat</td>\n",
       "    </tr>\n",
       "    <tr>\n",
       "      <th>4</th>\n",
       "      <td>2022-23 Alejandro Garnacho Panini Premier Leag...</td>\n",
       "      <td>24.99</td>\n",
       "      <td>20</td>\n",
       "      <td>Sat</td>\n",
       "    </tr>\n",
       "  </tbody>\n",
       "</table>\n",
       "</div>"
      ],
      "text/plain": [
       "                                               title list_price sale_price  \\\n",
       "0  MICHAEL JORDAN PSA 8 1986 FLEER STICKER #8 ROO...   1,250.00       1099   \n",
       "1  2023-24 Victor Wembanyama 10 Rookie Card Lot H...     110.00        100   \n",
       "2  1986 Fleer Basketball Sticker #6 Patrick Ewing...      45.00         39   \n",
       "3  VICTOR WEMBANYAMA ROOKIE Sneaker Stars 2023-24...      15.99         10   \n",
       "4  2022-23 Alejandro Garnacho Panini Premier Leag...      24.99         20   \n",
       "\n",
       "  date  \n",
       "0  Sun  \n",
       "1  Sun  \n",
       "2  Sat  \n",
       "3  Sat  \n",
       "4  Sat  "
      ]
     },
     "execution_count": 15,
     "metadata": {},
     "output_type": "execute_result"
    }
   ],
   "source": [
    "# Drop rows where 'list_price' is None\n",
    "df = df.dropna(subset=['list_price'])\n",
    "\n",
    "# Reset the index\n",
    "df = df.reset_index(drop=True)\n",
    "\n",
    "df.head()"
   ]
  },
  {
   "cell_type": "code",
   "execution_count": 16,
   "id": "7e1be9b9",
   "metadata": {},
   "outputs": [
    {
     "name": "stdout",
     "output_type": "stream",
     "text": [
      "                                                 title  list_price  \\\n",
      "0    MICHAEL JORDAN PSA 8 1986 FLEER STICKER #8 ROO...     1250.00   \n",
      "1    2023-24 Victor Wembanyama 10 Rookie Card Lot H...      110.00   \n",
      "2    1986 Fleer Basketball Sticker #6 Patrick Ewing...       45.00   \n",
      "3    VICTOR WEMBANYAMA ROOKIE Sneaker Stars 2023-24...       15.99   \n",
      "4    2022-23 Alejandro Garnacho Panini Premier Leag...       24.99   \n",
      "..                                                 ...         ...   \n",
      "401                         ahmad garndner rookie card        5.00   \n",
      "402  2021 UFC Prizm Jamahal Hill RC Rookie Base Car...        1.49   \n",
      "403  Rookie Greetings #01 Victor Wembanyama Rookie ...       50.00   \n",
      "404                            kobe bryant rookie card      350.00   \n",
      "405                     Bennedict Mathurin Rookie Card        1.15   \n",
      "\n",
      "     sale_price date  percentage_off_sale  \n",
      "0       1099.00  Sun               -12.08  \n",
      "1        100.00  Sun                -9.09  \n",
      "2         39.00  Sat               -13.33  \n",
      "3         10.00  Sat               -37.46  \n",
      "4         20.00  Sat               -19.97  \n",
      "..          ...  ...                  ...  \n",
      "401        1.00  Tue               -80.00  \n",
      "402        1.25  Mon               -16.11  \n",
      "403       40.00  Sun               -20.00  \n",
      "404      298.00  Sat               -14.86  \n",
      "405        0.97  Sat               -15.65  \n",
      "\n",
      "[406 rows x 5 columns]\n"
     ]
    }
   ],
   "source": [
    "df_filtered = df\n",
    "\n",
    "# Remove commas from list_price and sale_price and convert to numeric types\n",
    "df_filtered['list_price'] = df_filtered['list_price'].str.replace(',', '').astype(float)\n",
    "df_filtered['sale_price'] = df_filtered['sale_price'].str.replace(',', '').astype(float)\n",
    "\n",
    "# Calculate the difference between sale_price and list_price\n",
    "df_filtered['price_difference'] = df_filtered['sale_price'] - df_filtered['list_price']\n",
    "\n",
    "# Calculate the percentage difference and round to two decimal places\n",
    "df_filtered['percentage_off_sale'] = round((df_filtered['price_difference'] / df_filtered['list_price']) * 100, 2)\n",
    "\n",
    "# Display the DataFrame with percentage difference\n",
    "print(df_filtered[['title', 'list_price', 'sale_price', 'date', 'percentage_off_sale']])"
   ]
  },
  {
   "cell_type": "code",
   "execution_count": 17,
   "id": "0e140ce9",
   "metadata": {},
   "outputs": [
    {
     "name": "stdout",
     "output_type": "stream",
     "text": [
      "Average Percentage Off Sale: -24.63423645320197\n"
     ]
    }
   ],
   "source": [
    "# Calculate the average percentage off sale\n",
    "average_percentage_off_sale = df_filtered['percentage_off_sale'].mean()\n",
    "\n",
    "# Print the average percentage off sale\n",
    "print(\"Average Percentage Off Sale:\", average_percentage_off_sale)"
   ]
  },
  {
   "cell_type": "code",
   "execution_count": 18,
   "id": "3b4bf484",
   "metadata": {},
   "outputs": [
    {
     "name": "stdout",
     "output_type": "stream",
     "text": [
      "Average Percentage Off Sale by Date: date\n",
      "Mon   -25.749865\n",
      "Tue   -25.674444\n",
      "Wed   -21.561053\n",
      "Thu   -26.477778\n",
      "Fri   -24.548627\n",
      "Sat   -24.251644\n",
      "Sun   -24.360769\n",
      "Name: percentage_off_sale, dtype: float64\n"
     ]
    }
   ],
   "source": [
    "# Convert 'date' column to a categorical type with specified order\n",
    "df_filtered['date'] = pd.Categorical(df_filtered['date'], categories=['Mon', 'Tue', 'Wed', 'Thu', 'Fri', 'Sat', 'Sun'], ordered=True)\n",
    "\n",
    "# Calculate the average percentage off sale for each date and sort by date\n",
    "average_percentage_off_sale_by_date = df_filtered.groupby('date')['percentage_off_sale'].mean().sort_index()\n",
    "\n",
    "# Print the average percentage off sale for each date\n",
    "print(\"Average Percentage Off Sale by Date:\", average_percentage_off_sale_by_date)"
   ]
  },
  {
   "cell_type": "code",
   "execution_count": 19,
   "id": "181f8b98",
   "metadata": {},
   "outputs": [
    {
     "data": {
      "image/png": "[encoded data removed]",
      "text/plain": [
       "<Figure size 720x432 with 1 Axes>"
      ]
     },
     "metadata": {
      "needs_background": "light"
     },
     "output_type": "display_data"
    }
   ],
   "source": [
    "import matplotlib.pyplot as plt\n",
    "\n",
    "# Plotting\n",
    "plt.figure(figsize=(10, 6))\n",
    "plt.scatter(df_filtered['list_price'], df_filtered['sale_price'], color='blue', alpha=0.5)\n",
    "plt.title('List Price vs Sale Price')\n",
    "plt.xlabel('List Price')\n",
    "plt.ylabel('Sale Price')\n",
    "plt.grid(True)\n",
    "plt.show()\n"
   ]
  },
  {
   "cell_type": "code",
   "execution_count": 24,
   "id": "21b4c9f4",
   "metadata": {},
   "outputs": [
    {
     "data": {
      "image/png": "[encoded data removed]",
      "text/plain": [
       "<Figure size 720x432 with 1 Axes>"
      ]
     },
     "metadata": {
      "needs_background": "light"
     },
     "output_type": "display_data"
    }
   ],
   "source": [
    "\n",
    "# Filter out rows with sale price above 20000\n",
    "filtered_df = df_filtered[(df_filtered['sale_price'] <= 250) & (df_filtered['list_price'] <= 250)]\n",
    "\n",
    "# Plotting\n",
    "plt.figure(figsize=(10, 6))\n",
    "plt.scatter(filtered_df['list_price'], filtered_df['sale_price'], color='blue', alpha=0.5)\n",
    "plt.title('List Price vs Sale Price')\n",
    "plt.xlabel('List Price')\n",
    "plt.ylabel('Sale Price')\n",
    "plt.grid(True)\n",
    "plt.show()\n"
   ]
  },
  {
   "cell_type": "code",
   "execution_count": 27,
   "id": "76c03925",
   "metadata": {},
   "outputs": [
    {
     "data": {
      "image/png": "[encoded data removed]",
      "text/plain": [
       "<Figure size 720x432 with 1 Axes>"
      ]
     },
     "metadata": {
      "needs_background": "light"
     },
     "output_type": "display_data"
    }
   ],
   "source": [
    "import numpy as np\n",
    "\n",
    "# Filter out rows with sale price and list price less than or equal to 250\n",
    "filtered_df = df_filtered[(df_filtered['sale_price'] <= 250) & (df_filtered['list_price'] <= 250)]\n",
    "\n",
    "# Fit a linear regression model\n",
    "coefficients = np.polyfit(filtered_df['list_price'], filtered_df['sale_price'], 1)\n",
    "line_of_best_fit = np.polyval(coefficients, filtered_df['list_price'])\n",
    "\n",
    "# Plotting\n",
    "plt.figure(figsize=(10, 6))\n",
    "plt.scatter(filtered_df['list_price'], filtered_df['sale_price'], color='blue', alpha=0.5, label='Data Points')\n",
    "plt.plot(filtered_df['list_price'], line_of_best_fit, color='red', linewidth=2, label='Line of Best Fit')\n",
    "plt.title('List Price vs Sale Price (less than $250)')\n",
    "plt.xlabel('List Price')\n",
    "plt.ylabel('Sale Price')\n",
    "plt.legend()\n",
    "plt.grid(True)\n",
    "plt.show()\n"
   ]
  },
  {
   "cell_type": "code",
   "execution_count": 28,
   "id": "7b38b395",
   "metadata": {},
   "outputs": [
    {
     "data": {
      "image/png": "[encoded data removed]",
      "text/plain": [
       "<Figure size 720x432 with 1 Axes>"
      ]
     },
     "metadata": {
      "needs_background": "light"
     },
     "output_type": "display_data"
    }
   ],
   "source": [
    "# Filter out rows with sale price and list price less than or equal to 250\n",
    "filtered_df = df_filtered[(df_filtered['sale_price'] <= 50) & (df_filtered['list_price'] <= 50)]\n",
    "\n",
    "# Fit a linear regression model\n",
    "coefficients = np.polyfit(filtered_df['list_price'], filtered_df['sale_price'], 1)\n",
    "line_of_best_fit = np.polyval(coefficients, filtered_df['list_price'])\n",
    "\n",
    "# Plotting\n",
    "plt.figure(figsize=(10, 6))\n",
    "plt.scatter(filtered_df['list_price'], filtered_df['sale_price'], color='blue', alpha=0.5, label='Data Points')\n",
    "plt.plot(filtered_df['list_price'], line_of_best_fit, color='red', linewidth=2, label='Line of Best Fit')\n",
    "plt.title('List Price vs Sale Price (less than $50)')\n",
    "plt.xlabel('List Price')\n",
    "plt.ylabel('Sale Price')\n",
    "plt.legend()\n",
    "plt.grid(True)\n",
    "plt.show()"
   ]
  },
  {
   "cell_type": "code",
   "execution_count": null,
   "id": "7bef9f52",
   "metadata": {},
   "outputs": [],
   "source": []
  }
 ],
 "metadata": {
  "kernelspec": {
   "display_name": "Python 3",
   "language": "python",
   "name": "python3"
  },
  "language_info": {
   "codemirror_mode": {
    "name": "ipython",
    "version": 3
   },
   "file_extension": ".py",
   "mimetype": "text/x-python",
   "name": "python",
   "nbconvert_exporter": "python",
   "pygments_lexer": "ipython3",
   "version": "3.8.8"
  }
 },
 "nbformat": 4,
 "nbformat_minor": 5
}
